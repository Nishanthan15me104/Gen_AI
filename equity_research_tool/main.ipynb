{
 "cells": [
  {
   "cell_type": "code",
   "execution_count": 9,
   "metadata": {},
   "outputs": [],
   "source": [
    "import os\n",
    "import streamlit as st\n",
    "import pickle\n",
    "import time\n",
    "\n",
    "from langchain.chains import RetrievalQAWithSourcesChain\n",
    "from langchain.text_splitter import RecursiveCharacterTextSplitter\n",
    "from langchain.document_loaders import UnstructuredURLLoader\n",
    "from langchain_google_genai  import GoogleGenerativeAI\n",
    "from langchain_huggingface import HuggingFaceEmbeddings\n",
    "from langchain.vectorstores import FAISS"
   ]
  },
  {
   "cell_type": "code",
   "execution_count": 10,
   "metadata": {},
   "outputs": [
    {
     "data": {
      "text/plain": [
       "True"
      ]
     },
     "execution_count": 10,
     "metadata": {},
     "output_type": "execute_result"
    }
   ],
   "source": [
    "from dotenv import load_dotenv\n",
    "load_dotenv()"
   ]
  },
  {
   "cell_type": "code",
   "execution_count": 11,
   "metadata": {},
   "outputs": [
    {
     "data": {
      "text/plain": [
       "DeltaGenerator(_root_container=1, _parent=DeltaGenerator())"
      ]
     },
     "execution_count": 11,
     "metadata": {},
     "output_type": "execute_result"
    }
   ],
   "source": [
    "main_placeholder = st.empty()\n",
    "\n",
    "st.title(\" News Research tool 📈\")\n",
    "st.sidebar.title(\"News Article URLs\")"
   ]
  },
  {
   "cell_type": "code",
   "execution_count": null,
   "metadata": {},
   "outputs": [],
   "source": [
    "urls =[]\n",
    "\n",
    "for i in range(3):\n",
    "    url = st.sidebar.text_input(f\"URL {i+1}\")\n",
    "    urls.append(url)\n",
    "\n",
    "\n",
    "process_url_clicked =  st.sidebar.button(\" process URLS\")\n",
    "file_path = \"faiss_store_googlepalm.pkl\"\n",
    "\n",
    "GOOGLE_API_KEY = os.getenv(\"GOOGLE_API_KEY\")\n",
    "\n",
    "llm = GoogleGenerativeAI(google_api_key = GOOGLE_API_KEY, temperature = 0.2, model=\"models/gemini-2.0-flash\" )\n",
    "\n",
    "if process_url_clicked:\n",
    "    # load data\n",
    "    loader = UnstructuredURLLoader(urls =urls)\n",
    "    main_placeholder.text(\"data loading ...started ...\")\n",
    "    data = loader.load()\n",
    "    text_splitter = RecursiveCharacterTextSplitter(\n",
    "        separators=['\\n\\n', '\\n', '.', ','],\n",
    "        chunk_size=1000\n",
    "    )\n",
    "    main_placeholder.text(\"text splitter...started...\")\n",
    "    docs = text_splitter.split_documents(data)\n",
    "\n",
    "    # create embeddings and sacve to faiss index\n",
    "    api_key = os.getenv(\"GOOGLE_API_KEY\")\n",
    "\n",
    "   \n",
    "    embeddings = HuggingFaceEmbeddings(model_name='sentence-transformers/all-MiniLM-L6-v2')\n",
    "    \n",
    "    vectorstore_googlepalm = FAISS.from_documents(docs,embeddings)\n",
    "    main_placeholder.text(\"embedding vector started....\")\n",
    "    time.sleep(2)\n",
    "\n",
    "    # save the faiss idex to pickle file\n",
    "    with open(file_path,'wb') as f:\n",
    "        pickle.dump(vectorstore_googlepalm, f)\n",
    " \n",
    "query = main_placeholder.text_input(\"Question: \")\n",
    "\n",
    "if query:\n",
    "    if os.path.exists(file_path):\n",
    "        with open(file_path,'rb') as f:\n",
    "            vector_store = pickle.load(f)\n",
    "            chain = RetrievalQAWithSourcesChain.from_llm(llm=llm, retriever=vector_store.as_retriever())\n",
    "            result = chain({\"question\": query},return_only_outputs=True)\n",
    "            #Answer\n",
    "            st.header(\"Answer\")\n",
    "            st.write(result[\"answer\"])\n",
    "\n",
    "            # Display sources, if available\n",
    "            sources = result.get(\"sources\", \"\")\n",
    "            if sources:\n",
    "                st.subheader(\"Sources:\")\n",
    "                sources_list = sources.split(\"\\n\")  # Split the sources by newline\n",
    "                for source in sources_list:\n",
    "                    st.write(source)\n",
    "\n"
   ]
  },
  {
   "cell_type": "code",
   "execution_count": null,
   "metadata": {},
   "outputs": [],
   "source": []
  },
  {
   "cell_type": "code",
   "execution_count": null,
   "metadata": {},
   "outputs": [],
   "source": []
  }
 ],
 "metadata": {
  "kernelspec": {
   "display_name": "NLP",
   "language": "python",
   "name": "python3"
  },
  "language_info": {
   "codemirror_mode": {
    "name": "ipython",
    "version": 3
   },
   "file_extension": ".py",
   "mimetype": "text/x-python",
   "name": "python",
   "nbconvert_exporter": "python",
   "pygments_lexer": "ipython3",
   "version": "3.10.8"
  }
 },
 "nbformat": 4,
 "nbformat_minor": 2
}
